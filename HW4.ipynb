{
 "cells": [
  {
   "cell_type": "markdown",
   "metadata": {},
   "source": [
    "### Задание №1 + Задание №2"
   ]
  },
  {
   "cell_type": "code",
   "execution_count": 79,
   "metadata": {},
   "outputs": [
    {
     "data": {
      "text/plain": [
       "['27 Mar 19',\n",
       " '28 Mar 19',\n",
       " '29 Mar 19',\n",
       " '30 Mar 19',\n",
       " '31 Mar 19',\n",
       " '01 Apr 19',\n",
       " '02 Apr 19',\n",
       " '03 Apr 19',\n",
       " '04 Apr 19',\n",
       " '05 Apr 19',\n",
       " '06 Apr 19',\n",
       " '07 Apr 19',\n",
       " '08 Apr 19',\n",
       " '09 Apr 19',\n",
       " '10 Apr 19',\n",
       " '11 Apr 19',\n",
       " '12 Apr 19',\n",
       " '13 Apr 19',\n",
       " '14 Apr 19',\n",
       " '15 Apr 19',\n",
       " '16 Apr 19',\n",
       " '17 Apr 19',\n",
       " '18 Apr 19',\n",
       " '19 Apr 19',\n",
       " '20 Apr 19',\n",
       " '21 Apr 19',\n",
       " '22 Apr 19',\n",
       " '23 Apr 19',\n",
       " '24 Apr 19',\n",
       " '25 Apr 19',\n",
       " '26 Apr 19',\n",
       " '27 Apr 19',\n",
       " '28 Apr 19',\n",
       " '29 Apr 19',\n",
       " '30 Apr 19',\n",
       " '01 May 19',\n",
       " '02 May 19',\n",
       " '03 May 19',\n",
       " '04 May 19',\n",
       " '05 May 19',\n",
       " '06 May 19',\n",
       " '07 May 19',\n",
       " '08 May 19',\n",
       " '09 May 19',\n",
       " '10 May 19',\n",
       " '11 May 19',\n",
       " '12 May 19',\n",
       " '13 May 19',\n",
       " '14 May 19',\n",
       " '15 May 19',\n",
       " '16 May 19',\n",
       " '17 May 19',\n",
       " '18 May 19',\n",
       " '19 May 19',\n",
       " '20 May 19',\n",
       " '21 May 19',\n",
       " '22 May 19',\n",
       " '23 May 19',\n",
       " '24 May 19',\n",
       " '25 May 19',\n",
       " '26 May 19',\n",
       " '27 May 19',\n",
       " '28 May 19',\n",
       " '29 May 19',\n",
       " '30 May 19',\n",
       " '31 May 19',\n",
       " '01 Jun 19',\n",
       " '02 Jun 19',\n",
       " '03 Jun 19',\n",
       " '04 Jun 19',\n",
       " '05 Jun 19',\n",
       " '06 Jun 19',\n",
       " '07 Jun 19',\n",
       " '08 Jun 19',\n",
       " '09 Jun 19',\n",
       " '10 Jun 19',\n",
       " '11 Jun 19',\n",
       " '12 Jun 19',\n",
       " '13 Jun 19',\n",
       " '14 Jun 19',\n",
       " '15 Jun 19',\n",
       " '16 Jun 19',\n",
       " '17 Jun 19',\n",
       " '18 Jun 19',\n",
       " '19 Jun 19',\n",
       " '20 Jun 19',\n",
       " '21 Jun 19',\n",
       " '22 Jun 19',\n",
       " '23 Jun 19',\n",
       " '24 Jun 19',\n",
       " '25 Jun 19',\n",
       " '26 Jun 19',\n",
       " '27 Jun 19',\n",
       " '28 Jun 19',\n",
       " '29 Jun 19',\n",
       " '30 Jun 19',\n",
       " '01 Jul 19',\n",
       " '02 Jul 19',\n",
       " '03 Jul 19',\n",
       " '04 Jul 19',\n",
       " '05 Jul 19',\n",
       " '06 Jul 19',\n",
       " '07 Jul 19',\n",
       " '08 Jul 19',\n",
       " '09 Jul 19',\n",
       " '10 Jul 19',\n",
       " '11 Jul 19',\n",
       " '12 Jul 19',\n",
       " '13 Jul 19',\n",
       " '14 Jul 19',\n",
       " '15 Jul 19',\n",
       " '16 Jul 19',\n",
       " '17 Jul 19',\n",
       " '18 Jul 19',\n",
       " '19 Jul 19',\n",
       " '20 Jul 19',\n",
       " '21 Jul 19',\n",
       " '22 Jul 19',\n",
       " '23 Jul 19',\n",
       " '24 Jul 19',\n",
       " '25 Jul 19']"
      ]
     },
     "execution_count": 79,
     "metadata": {},
     "output_type": "execute_result"
    }
   ],
   "source": [
    "from datetime import datetime\n",
    "from datetime import timedelta\n",
    "def date_range(start_date, end_date):\n",
    "    list_=[]\n",
    "    try:\n",
    "        start_date_dt = datetime.strptime(start_date,'%Y-%m-%d')\n",
    "        end_date_dt = datetime.strptime(end_date,'%Y-%m-%d')\n",
    "        current_date_dt = start_date_dt\n",
    "        while current_date_dt <= end_date_dt:\n",
    "            list_.append(current_date_dt.strftime('%d %b %y'))\n",
    "            current_date_dt+=timedelta(days=1)\n",
    "        return(list_)\n",
    "    except:\n",
    "        return list_\n",
    "date_range('2019-03-27','2019-07-25')"
   ]
  },
  {
   "cell_type": "markdown",
   "metadata": {},
   "source": [
    "### Задание №3"
   ]
  },
  {
   "cell_type": "code",
   "execution_count": 26,
   "metadata": {},
   "outputs": [
    {
     "data": {
      "text/plain": [
       "{'2018-04-02': True, '2018-02-29': False, '2018-19-02': False}"
      ]
     },
     "execution_count": 26,
     "metadata": {},
     "output_type": "execute_result"
    }
   ],
   "source": [
    "stream = ['2018-04-02', '2018-02-29', '2018-19-02']\n",
    "def correct_date(stream_):\n",
    "    check_list={}\n",
    "    for date in stream_:\n",
    "        try:\n",
    "            date_dt = datetime.strptime(date,'%Y-%m-%d')\n",
    "            check_list[date] = True\n",
    "        except:\n",
    "            check_list[date] = False\n",
    "    return (check_list)\n",
    "correct_date(stream)"
   ]
  },
  {
   "cell_type": "markdown",
   "metadata": {},
   "source": [
    "### Задание №4"
   ]
  },
  {
   "cell_type": "code",
   "execution_count": 77,
   "metadata": {},
   "outputs": [
    {
     "data": {
      "text/plain": [
       "['01 May 2019',\n",
       " '02 May 2019',\n",
       " '03 May 2019',\n",
       " '04 May 2019',\n",
       " '05 May 2019',\n",
       " '06 May 2019',\n",
       " '07 May 2019',\n",
       " '08 May 2019',\n",
       " '09 May 2019',\n",
       " '10 May 2019',\n",
       " '11 May 2019',\n",
       " '12 May 2019',\n",
       " '13 May 2019',\n",
       " '14 May 2019',\n",
       " '15 May 2019',\n",
       " '16 May 2019',\n",
       " '17 May 2019',\n",
       " '18 May 2019',\n",
       " '19 May 2019',\n",
       " '20 May 2019',\n",
       " '21 May 2019',\n",
       " '22 May 2019',\n",
       " '23 May 2019',\n",
       " '24 May 2019',\n",
       " '25 May 2019']"
      ]
     },
     "execution_count": 77,
     "metadata": {},
     "output_type": "execute_result"
    }
   ],
   "source": [
    "def date_list():\n",
    "    today = datetime.today()\n",
    "    list_=[]\n",
    "    first_day = datetime(today.year,today.month,1)\n",
    "    if (first_day.year, first_day.month, first_day.day) == (today.year, today.month, today.day):\n",
    "        first_day = datetime(today.year,today.month-1,1)\n",
    "        try:\n",
    "            end_day=datetime(today.year,today.month-1,31)\n",
    "        except:\n",
    "            try:\n",
    "                end_day=datetime(today.year,today.month-1,30)\n",
    "            except:\n",
    "                try:\n",
    "                    end_day=datetime(today.year,today.month-1,29)\n",
    "                except:\n",
    "                    end_day=datetime(today.year,today.month-1,28)\n",
    "    else:\n",
    "        first_day = datetime(today.year,today.month,1)\n",
    "        end_day = today\n",
    "    while first_day.day<=end_day.day:\n",
    "        list_.append(first_day.strftime('%d %B %Y'))\n",
    "        first_day+=timedelta(days=1)\n",
    "        if first_day.day == 1:\n",
    "            break\n",
    "    return(list_)\n",
    "date_list()"
   ]
  }
 ],
 "metadata": {
  "kernelspec": {
   "display_name": "Python 3",
   "language": "python",
   "name": "python3"
  },
  "language_info": {
   "codemirror_mode": {
    "name": "ipython",
    "version": 3
   },
   "file_extension": ".py",
   "mimetype": "text/x-python",
   "name": "python",
   "nbconvert_exporter": "python",
   "pygments_lexer": "ipython3",
   "version": "3.7.3"
  }
 },
 "nbformat": 4,
 "nbformat_minor": 2
}
